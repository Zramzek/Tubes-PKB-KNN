{
 "cells": [
  {
   "cell_type": "markdown",
   "id": "0998ab93",
   "metadata": {},
   "source": [
    "# <center>Assessment CLO-3: Tugas Pemrograman Learning</center>"
   ]
  },
  {
   "attachments": {},
   "cell_type": "markdown",
   "id": "b9dd2c3d",
   "metadata": {},
   "source": [
    "<b>2D Elastodynamic Metamaterialsk</b>\n",
    "Regresi pada 2D Elastodynamic Metamaterials menggunakan K-Nearest Neighbor\n",
    "\n",
    "<b>Kelompok : 3</b>\n",
    "\n",
    "Anggota:\n",
    "1. Dafa Wahyu Ananta - 1301223226\n",
    "2. Muhammad Hamdi Kurnia Rahman - 1301220503\n",
    "3. Zaidan Rasyid - 1301223134"
   ]
  },
  {
   "cell_type": "markdown",
   "id": "f67c8e8d",
   "metadata": {},
   "source": [
    "#### Pendahuluan\n",
    "Silahkan double click cell ini dan perkenalkan dataset yang Anda pilih, beserta masalah apa yang ingin diselesaikan!\n",
    "\n",
    "Jelaskan pula bagaimana Anda mengolah data serta membaginya untuk tahap training dan testing!"
   ]
  },
  {
   "cell_type": "code",
   "execution_count": null,
   "id": "bd1c9727",
   "metadata": {},
   "outputs": [],
   "source": [
    "# Show your data in tabular or other visualization ways\n",
    "# Data Preprocessing\n",
    "# Data Splitting\n",
    "# Write your code here\n",
    "\n"
   ]
  },
  {
   "cell_type": "markdown",
   "id": "691b437e",
   "metadata": {},
   "source": [
    "#### Metode yang Digunakan\n",
    "Silahkan double click cell ini dan jelaskan metode yang Anda pilih, disertai penjelasan mengenai setting parameter yang ditentukan!"
   ]
  },
  {
   "cell_type": "code",
   "execution_count": null,
   "id": "348c59c4",
   "metadata": {},
   "outputs": [],
   "source": [
    "# Experiment Settings\n",
    "# Write your code here\n",
    "\n"
   ]
  },
  {
   "cell_type": "code",
   "execution_count": null,
   "id": "27ae8626",
   "metadata": {},
   "outputs": [],
   "source": [
    "# Model Training\n",
    "# Save the trained model\n",
    "# Write your code here\n",
    "\n"
   ]
  },
  {
   "cell_type": "code",
   "execution_count": null,
   "id": "db175b05",
   "metadata": {},
   "outputs": [],
   "source": [
    "# Model Testing and Evaluation\n",
    "# Show the performance\n",
    "# Write your code here\n",
    "\n"
   ]
  },
  {
   "cell_type": "markdown",
   "id": "c5526cf7",
   "metadata": {},
   "source": [
    "#### Hasil dan Analisis\n",
    "Silahkan double click cell ini dan tulis hasil dan analisis!\n",
    "\n",
    "Tampilkan performa yang dihasilkan, bisa dalam tabel dan grafik, diukur berdasarkan metrik evaluasi yang dipakai.\n",
    "\n",
    "Tuliskan hasil analisis Anda."
   ]
  },
  {
   "cell_type": "markdown",
   "id": "8a255fe5",
   "metadata": {},
   "source": [
    "#### Kesimpulan\n",
    "Silahkan double click cell ini dan tulis kesimpulan berdasarkan hasil percobaan yang Anda lakukan!"
   ]
  },
  {
   "cell_type": "markdown",
   "id": "5241e91d",
   "metadata": {},
   "source": []
  }
 ],
 "metadata": {
  "kernelspec": {
   "display_name": "Python 3",
   "language": "python",
   "name": "python3"
  },
  "language_info": {
   "codemirror_mode": {
    "name": "ipython",
    "version": 3
   },
   "file_extension": ".py",
   "mimetype": "text/x-python",
   "name": "python",
   "nbconvert_exporter": "python",
   "pygments_lexer": "ipython3",
   "version": "3.12.3 (tags/v3.12.3:f6650f9, Apr  9 2024, 14:05:25) [MSC v.1938 64 bit (AMD64)]"
  },
  "vscode": {
   "interpreter": {
    "hash": "ab8db49438c46589a896c77a24b215086a606fb47574eb54767c1777e5603d13"
   }
  }
 },
 "nbformat": 4,
 "nbformat_minor": 5
}
